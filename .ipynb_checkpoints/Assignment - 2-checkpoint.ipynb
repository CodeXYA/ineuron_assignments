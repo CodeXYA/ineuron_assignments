{
 "cells": [
  {
   "cell_type": "markdown",
   "id": "a7f9428a",
   "metadata": {},
   "source": [
    "# <center>String, Objects and List Objects"
   ]
  },
  {
   "cell_type": "markdown",
   "id": "87653661",
   "metadata": {},
   "source": [
    "1. Create the below pattern using nested for loop in Python."
   ]
  },
  {
   "cell_type": "code",
   "execution_count": null,
   "id": "07dfcadd",
   "metadata": {},
   "outputs": [],
   "source": [
    "for i in range(5): # for the upward triange shape\n",
    "    for j in range (i+1): #Iterating the rows\n",
    "        print(\"*\",end=\"\") #printing \"*\" in columns\n",
    "    print(\"\") #printing rows\n",
    "for i in range(5): # for the downward triange shape\n",
    "    for j in range (4-i): #Iterating the rows\n",
    "        print(\"*\",end=\"\") #printing \"*\" in columns\n",
    "    print(\"\")#printing rows"
   ]
  },
  {
   "cell_type": "markdown",
   "id": "6ff53406",
   "metadata": {},
   "source": [
    "2. Write a Python program to reverse a word after accepting the input from the user."
   ]
  },
  {
   "cell_type": "code",
   "execution_count": null,
   "id": "1d9f62e2",
   "metadata": {},
   "outputs": [],
   "source": [
    "a=input(\"Enter a word \") #User input\n",
    "print(a[::-1]) #Reversing user input"
   ]
  }
 ],
 "metadata": {
  "kernelspec": {
   "display_name": "Python 3",
   "language": "python",
   "name": "python3"
  },
  "language_info": {
   "codemirror_mode": {
    "name": "ipython",
    "version": 3
   },
   "file_extension": ".py",
   "mimetype": "text/x-python",
   "name": "python",
   "nbconvert_exporter": "python",
   "pygments_lexer": "ipython3",
   "version": "3.9.4"
  }
 },
 "nbformat": 4,
 "nbformat_minor": 5
}
