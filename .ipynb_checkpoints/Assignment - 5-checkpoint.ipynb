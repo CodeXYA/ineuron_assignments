{
 "cells": [
  {
   "cell_type": "markdown",
   "id": "381199ba",
   "metadata": {},
   "source": [
    "# <center> Modules , Exception Handling &amp; Database Programming"
   ]
  },
  {
   "cell_type": "markdown",
   "id": "72a151c7",
   "metadata": {},
   "source": [
    "1. Write a function to compute 5/0 and use try/except to catch the exceptions."
   ]
  },
  {
   "cell_type": "code",
   "execution_count": 1,
   "id": "4237a57b",
   "metadata": {},
   "outputs": [
    {
     "data": {
      "text/plain": [
       "ZeroDivisionError('division by zero')"
      ]
     },
     "execution_count": 1,
     "metadata": {},
     "output_type": "execute_result"
    }
   ],
   "source": [
    "def div_by_zero(a,b=0):\n",
    "    try:\n",
    "        a/b\n",
    "    except ZeroDivisionError as e:\n",
    "        return e\n",
    "    \n",
    "div_by_zero(5)"
   ]
  },
  {
   "cell_type": "markdown",
   "id": "fdcdbb51",
   "metadata": {},
   "source": [
    "2. Implement a Python program to generate all sentences where subject is in\n",
    "[\"Americans\", \"Indians\"] and verb is in [\"Play\", \"watch\"] and the object is in\n",
    "[\"Baseball\",\"cricket\"].\n",
    "Hint: Subject,Verb and Object should be declared in the program as shown below. \n",
    " \n",
    "subjects=[\"Americans \",\"Indians\"] \n",
    " \n",
    "verbs=[\"play\",\"watch\"] \n",
    " \n",
    "objects=[\"Baseball\",\"Cricket\"] \n",
    " \n",
    "Output should come as below: \n",
    " \n",
    "Americans play Baseball. \n",
    " \n",
    "Americans play Cricket. \n",
    " \n",
    "Americans watch Baseball. \n",
    " \n",
    "Americans watch Cricket. \n",
    " \n",
    "Indians play Baseball. \n",
    " \n",
    "Indians play Cricket. \n",
    " \n",
    "Indians watch Baseball. \n",
    " \n",
    "Indians watch Cricket. "
   ]
  },
  {
   "cell_type": "code",
   "execution_count": 2,
   "id": "d033dbd2",
   "metadata": {},
   "outputs": [
    {
     "name": "stdout",
     "output_type": "stream",
     "text": [
      "Americans play Baseball\n",
      "Americans play Cricket\n",
      "Americans watch Baseball\n",
      "Americans watch Cricket\n",
      "Indians play Baseball\n",
      "Indians play Cricket\n",
      "Indians watch Baseball\n",
      "Indians watch Cricket\n"
     ]
    }
   ],
   "source": [
    "subjects=[\"Americans\",\"Indians\"]\n",
    "verbs=[\"play\",\"watch\"]\n",
    "objects=[\"Baseball\",\"Cricket\"]\n",
    "\n",
    "for i in subjects:\n",
    "    for j in verbs:\n",
    "        for k in objects:\n",
    "            print(f'{i} {j} {k}')"
   ]
  }
 ],
 "metadata": {
  "kernelspec": {
   "display_name": "Python 3 (ipykernel)",
   "language": "python",
   "name": "python3"
  },
  "language_info": {
   "codemirror_mode": {
    "name": "ipython",
    "version": 3
   },
   "file_extension": ".py",
   "mimetype": "text/x-python",
   "name": "python",
   "nbconvert_exporter": "python",
   "pygments_lexer": "ipython3",
   "version": "3.9.7"
  }
 },
 "nbformat": 4,
 "nbformat_minor": 5
}
