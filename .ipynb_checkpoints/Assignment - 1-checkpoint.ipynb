{
 "cells": [
  {
   "cell_type": "markdown",
   "id": "b259fd26",
   "metadata": {},
   "source": [
    "# <center>Python Basics, Conditional Loops"
   ]
  },
  {
   "cell_type": "markdown",
   "id": "1778f548",
   "metadata": {},
   "source": [
    "1. Write a program which will find all such numbers which are divisible by 7 but are not a multiple of 5, between 2000 and 3200 (both included). The numbers obtained should be printed\n",
    "in a comma-separated sequence on a single line."
   ]
  },
  {
   "cell_type": "code",
   "execution_count": null,
   "id": "63cba0a3",
   "metadata": {},
   "outputs": [],
   "source": [
    "l = list() # Creating an Empty list to store the values\n",
    "\n",
    "for i in range (2000,3201): # Iterating through all the numbers in the range 2000 - 3200\n",
    "    \n",
    "    if i % 7 == 0 and i % 5 != 0: # Checking for the trueness of two conditions\n",
    "        \n",
    "        l.append(i) # appending the passed value to the list l\n",
    "        \n",
    "print(l)"
   ]
  },
  {
   "cell_type": "markdown",
   "id": "e024d44a",
   "metadata": {},
   "source": [
    "2. Write a Python program to accept the user's first and last name and then getting them printed in the the reverse order with a space between first name and last name."
   ]
  },
  {
   "cell_type": "code",
   "execution_count": null,
   "id": "5427c3ae",
   "metadata": {},
   "outputs": [],
   "source": [
    "a = input(\"Enter your First Name \") # Getting First Name\n",
    "\n",
    "b = input(\"Enter your Last Name \") #Getting Last Name\n",
    "\n",
    "print(b[::-1],a[::-1]) #Printing the names in reverse"
   ]
  },
  {
   "cell_type": "markdown",
   "id": "03c8ed52",
   "metadata": {},
   "source": [
    "3. Write a Python program to find the volume of a sphere with diameter 12 cm. Using Formula: V=4/3 * π * r ^ 3"
   ]
  },
  {
   "cell_type": "code",
   "execution_count": null,
   "id": "2e0bc118",
   "metadata": {},
   "outputs": [],
   "source": [
    "d = 12 #Declaring the diameter\n",
    "\n",
    "pi = 3.1415 #Declaring value for 'π'\n",
    "\n",
    "v = 4/3 * pi * (d/2)**3\n",
    "\n",
    "print(v)"
   ]
  }
 ],
 "metadata": {
  "kernelspec": {
   "display_name": "Python 3",
   "language": "python",
   "name": "python3"
  },
  "language_info": {
   "codemirror_mode": {
    "name": "ipython",
    "version": 3
   },
   "file_extension": ".py",
   "mimetype": "text/x-python",
   "name": "python",
   "nbconvert_exporter": "python",
   "pygments_lexer": "ipython3",
   "version": "3.9.4"
  }
 },
 "nbformat": 4,
 "nbformat_minor": 5
}
