{
 "cells": [
  {
   "cell_type": "markdown",
   "id": "d0d17bcb",
   "metadata": {},
   "source": [
    "## <center>Tuples,Set"
   ]
  },
  {
   "cell_type": "markdown",
   "id": "e8771361",
   "metadata": {},
   "source": [
    "1.1 Write a Python Program to implement your own myreduce() function which works exactly\n",
    "like Python's built-in function reduce()"
   ]
  },
  {
   "cell_type": "markdown",
   "id": "16369a5b",
   "metadata": {},
   "source": [
    "## The built in reduce function"
   ]
  },
  {
   "cell_type": "markdown",
   "id": "738b472b",
   "metadata": {},
   "source": [
    "Docstring:\n",
    "reduce(function, sequence[, initial]) -> value\n",
    "\n",
    "Apply a function of two arguments cumulatively to the items of a sequence,\n",
    "from left to right, so as to reduce the sequence to a single value.\n",
    "For example, reduce(lambda x, y: x+y, [1, 2, 3, 4, 5]) calculates\n",
    "((((1+2)+3)+4)+5).  If initial is present, it is placed before the items\n",
    "of the sequence in the calculation, and serves as a default when the\n",
    "sequence is empty."
   ]
  },
  {
   "cell_type": "code",
   "execution_count": 10,
   "id": "2ad3434c",
   "metadata": {},
   "outputs": [
    {
     "data": {
      "text/plain": [
       "15"
      ]
     },
     "execution_count": 10,
     "metadata": {},
     "output_type": "execute_result"
    }
   ],
   "source": [
    "from functools import reduce\n",
    "ls = [1,2,3,4,5]\n",
    "\n",
    "def sum(a,b):\n",
    "    return a+b\n",
    "\n",
    "reduce(sum,ls)"
   ]
  },
  {
   "cell_type": "markdown",
   "id": "12372051",
   "metadata": {},
   "source": [
    "## My reducer function"
   ]
  },
  {
   "cell_type": "code",
   "execution_count": 11,
   "id": "9e495ecd",
   "metadata": {},
   "outputs": [
    {
     "data": {
      "text/plain": [
       "15"
      ]
     },
     "execution_count": 11,
     "metadata": {},
     "output_type": "execute_result"
    }
   ],
   "source": [
    "\n",
    "def reducer(func,seq):\n",
    "    a = seq[0]\n",
    "    for i in range(1,len(seq)):\n",
    "        b = seq[i]\n",
    "        res = func(a,b)\n",
    "        a = res\n",
    "    return res\n",
    "\n",
    "reducer((lambda a,b:a+b),ls)"
   ]
  },
  {
   "cell_type": "markdown",
   "id": "ea23c0f9",
   "metadata": {},
   "source": [
    "1.2 Write a Python program to implement your own myfilter() function which works exactly\n",
    "like Python's built-in function filter()"
   ]
  },
  {
   "cell_type": "markdown",
   "id": "95eb8d43",
   "metadata": {},
   "source": [
    "## Built in filter function"
   ]
  },
  {
   "cell_type": "code",
   "execution_count": 24,
   "id": "f170be24",
   "metadata": {},
   "outputs": [
    {
     "data": {
      "text/plain": [
       "[2, 4, 6]"
      ]
     },
     "execution_count": 24,
     "metadata": {},
     "output_type": "execute_result"
    }
   ],
   "source": [
    "l = [1,2,3,4,5,6]\n",
    "\n",
    "list(filter(lambda x: x%2 == 0, l))"
   ]
  },
  {
   "cell_type": "markdown",
   "id": "2d615bb9",
   "metadata": {},
   "source": [
    "## my_filter function"
   ]
  },
  {
   "cell_type": "code",
   "execution_count": 71,
   "id": "2d561ffc",
   "metadata": {},
   "outputs": [
    {
     "data": {
      "text/plain": [
       "['e', 'a']"
      ]
     },
     "execution_count": 71,
     "metadata": {},
     "output_type": "execute_result"
    }
   ],
   "source": [
    "def my_fun(alp):\n",
    "    vowels = ['a','e','i','o','u']\n",
    "    if alp in vowels:\n",
    "        return True\n",
    "    else:\n",
    "        return False\n",
    "    \n",
    "ls = ['r','t','g','s','e','a']\n",
    "\n",
    "\n",
    "def my_filter(func,seq):\n",
    "    out = []\n",
    "    for i in iter(seq):\n",
    "        if func(i) is True:\n",
    "            out.append(i)\n",
    "    return out\n",
    "\n",
    "my_filter(my_fun,ls)"
   ]
  },
  {
   "cell_type": "markdown",
   "id": "2190b92c",
   "metadata": {},
   "source": [
    "2. Implement List comprehensions to produce the following lists.\n",
    "['x', 'xx', 'xxx', 'xxxx', 'y', 'yy', 'yyy', 'yyyy', 'z', 'zz', 'zzz', 'zzzz']\n",
    "['x', 'y', 'z', 'xx', 'yy', 'zz', 'xxx', 'yyy', 'zzz', 'xxxx', 'yyyy', 'zzzz']\n",
    "[[2], [3], [4], [3], [4], [5], [4], [5], [6]] \n",
    "[[2, 3, 4, 5], [3, 4, 5, 6],[4, 5, 6, 7], [5, 6, 7, 8]]\n",
    "[(1, 1), (2, 1), (3, 1), (1, 2), (2, 2), (3, 2), (1, 3), (2, 3), (3, 3)]"
   ]
  },
  {
   "cell_type": "code",
   "execution_count": 130,
   "id": "97865b47",
   "metadata": {},
   "outputs": [
    {
     "name": "stdout",
     "output_type": "stream",
     "text": [
      "['x', 'xx', 'xxx', 'xxxx', 'y', 'yy', 'yyy', 'yyyy', 'z', 'zz', 'zzz', 'zzzz']\n",
      "['x', 'y', 'z', 'xx', 'yy', 'zz', 'xxx', 'yyy', 'zzz', 'xxxx', 'yyyy', 'zzzz']\n",
      "[[2], [3], [4], [3], [4], [5], [4], [5], [6]]\n",
      "[[2, 3, 4, 5], [3, 4, 5, 6], [4, 5, 6, 7], [5, 6, 7, 8]]\n"
     ]
    },
    {
     "data": {
      "text/plain": [
       "[(1, 1), (2, 1), (3, 1), (1, 2), (2, 2), (3, 2), (1, 3), (2, 3), (3, 3)]"
      ]
     },
     "execution_count": 130,
     "metadata": {},
     "output_type": "execute_result"
    }
   ],
   "source": [
    "print([i*j for i in ['x','y','z'] for j in range(1,5)])\n",
    "\n",
    "print([i*j for i in range(1,5) for j in ['x','y','z']])\n",
    "\n",
    "print([[i] for i in range(2,5)] + [[j] for j in range(3,6)] + [[k] for k in range(4,7)])\n",
    "\n",
    "print([[i for i in range(2,6)], [j for j in range(3,7)], [k for k in range(4,8)], [l for l in range(5,9)]])\n",
    "\n",
    "[(j,i) for i in range(1,4) for j in range(1,4)]"
   ]
  }
 ],
 "metadata": {
  "kernelspec": {
   "display_name": "Python 3 (ipykernel)",
   "language": "python",
   "name": "python3"
  },
  "language_info": {
   "codemirror_mode": {
    "name": "ipython",
    "version": 3
   },
   "file_extension": ".py",
   "mimetype": "text/x-python",
   "name": "python",
   "nbconvert_exporter": "python",
   "pygments_lexer": "ipython3",
   "version": "3.9.7"
  }
 },
 "nbformat": 4,
 "nbformat_minor": 5
}
