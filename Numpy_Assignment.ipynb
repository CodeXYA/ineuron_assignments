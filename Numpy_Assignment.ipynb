{
  "nbformat": 4,
  "nbformat_minor": 0,
  "metadata": {
    "colab": {
      "provenance": [],
      "collapsed_sections": [],
      "authorship_tag": "ABX9TyPzI8gyKcw09fxBOEX52t1i"
    },
    "kernelspec": {
      "name": "python3",
      "display_name": "Python 3"
    },
    "language_info": {
      "name": "python"
    }
  },
  "cells": [
    {
      "cell_type": "markdown",
      "source": [
        "####1. Write a function so that the columns of the output matrix are powers of the input vector.\n",
        "\n",
        "####The order of the powers is determined by the increasing boolean argument. Specifically, when increasing is False, the i-th output column is the input vector raised element-wise to the power of N - i - 1.\n",
        "\n",
        "####HINT: Such a matrix with a geometric progression in each row is named for Alexandre-Theophile Vandermonde."
      ],
      "metadata": {
        "id": "IDCtgBuUGvYx"
      }
    },
    {
      "cell_type": "code",
      "source": [
        "import numpy as np"
      ],
      "metadata": {
        "id": "iGbgnTBFKodZ"
      },
      "execution_count": 1,
      "outputs": []
    },
    {
      "cell_type": "code",
      "execution_count": 119,
      "metadata": {
        "id": "C6Chp2MXGfFf"
      },
      "outputs": [],
      "source": [
        "def vanderMat(x, N, increasing=False):\n",
        "  if increasing:\n",
        "    return np.array([x**(i) for i in range(N)]).T\n",
        "  else:\n",
        "    return np.array([x**(N-i-1) for i in range(N)]).T"
      ]
    },
    {
      "cell_type": "code",
      "source": [
        "vanderMat(x,3,increasing=False)"
      ],
      "metadata": {
        "colab": {
          "base_uri": "https://localhost:8080/",
          "height": 0
        },
        "id": "k-V6KuCgMsHq",
        "outputId": "75ae2a54-a359-4ea3-b593-154c1048ec1c"
      },
      "execution_count": 120,
      "outputs": [
        {
          "output_type": "execute_result",
          "data": {
            "text/plain": [
              "array([[ 1,  1,  1],\n",
              "       [ 4,  2,  1],\n",
              "       [ 9,  3,  1],\n",
              "       [16,  4,  1]])"
            ]
          },
          "metadata": {},
          "execution_count": 120
        }
      ]
    },
    {
      "cell_type": "markdown",
      "source": [
        "####Given a sequence of n values x1, x2, ..., xn and a window size k>0, the k-th moving average of the given sequence is defined as follows: The moving average sequence has n-k+1 elements as shown below. The moving averages with k=4 of a ten-value sequence (n=10) is shown below\n",
        "#### i 1 2 3 4 5 6 7 8 9 10\n",
        "#### ===== == == == == == == == == == ==\n",
        "#### Input 10 20 30 40 50 60 70 80 90 100\n",
        "#### y1 25 = (10+20+30+40)/4\n",
        "#### y2 35 = (20+30+40+50)/4\n",
        "#### y3 45 = (30+40+50+60)/4\n",
        "#### y4 55 = (40+50+60+70)/4\n",
        "#### y5 65 = (50+60+70+80)/4\n",
        "#### y6 75 = (60+70+80+90)/4\n",
        "#### y7 85 = (70+80+90+100)/4\n",
        "#### Thus, the moving average sequence has n-k+1=10-4+1=7 values."
      ],
      "metadata": {
        "id": "3cBJQoAnHVIH"
      }
    },
    {
      "cell_type": "markdown",
      "source": [
        "#### 2.Question: Write a function to find moving average in an array over a window:\n",
        "####Test it over [3, 5, 7, 2, 8, 10, 11, 65, 72, 81, 99, 100, 150] and window of 3."
      ],
      "metadata": {
        "id": "msMtojpgH4cf"
      }
    },
    {
      "cell_type": "code",
      "source": [
        "def movAvg(x,k):\n",
        "  y = len(x)-k+1\n",
        "  for i in range(y):\n",
        "    print(f'y{i+1} {round(sum(x[i:i+k])/k,2)}')"
      ],
      "metadata": {
        "id": "Mj3erwHAH8qv"
      },
      "execution_count": 166,
      "outputs": []
    },
    {
      "cell_type": "code",
      "source": [
        "n=[3, 5, 7, 2, 8, 10, 11, 65, 72, 81, 99, 100, 150]\n",
        "k=3\n",
        "movAvg(n,k)"
      ],
      "metadata": {
        "colab": {
          "base_uri": "https://localhost:8080/",
          "height": 0
        },
        "id": "C3HtzO68Ihie",
        "outputId": "c0369a2f-ff86-413d-8c75-a8575b8d18a3"
      },
      "execution_count": 168,
      "outputs": [
        {
          "output_type": "stream",
          "name": "stdout",
          "text": [
            "y1 5.0\n",
            "y2 4.67\n",
            "y3 5.67\n",
            "y4 6.67\n",
            "y5 9.67\n",
            "y6 28.67\n",
            "y7 49.33\n",
            "y8 72.67\n",
            "y9 84.0\n",
            "y10 93.33\n",
            "y11 116.33\n"
          ]
        }
      ]
    }
  ]
}